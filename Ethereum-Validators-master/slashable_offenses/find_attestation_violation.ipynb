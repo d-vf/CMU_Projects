{
 "cells": [
  {
   "cell_type": "code",
   "execution_count": 3,
   "metadata": {
    "collapsed": true
   },
   "outputs": [],
   "source": [
    "import json\n",
    "import utils\n",
    "from tqdm import tqdm\n",
    "import traceback"
   ]
  },
  {
   "cell_type": "markdown",
   "source": [
    "Download attestation data on the block from a specific range."
   ],
   "metadata": {
    "collapsed": false
   }
  },
  {
   "cell_type": "code",
   "execution_count": 5,
   "outputs": [
    {
     "name": "stderr",
     "output_type": "stream",
     "text": [
      "100%|██████████| 640/640 [20:08<00:00,  1.89s/it]  \n"
     ]
    }
   ],
   "source": [
    "attestation = {} # slot => attestation\n",
    "for slot in tqdm(range(136000*32, 136050*32)):\n",
    "    data = utils.handle_request(\"https://beaconcha.in/api/v1/block/{}/attestations\".format(slot))\n",
    "    attestation[slot] = data\n",
    "with open('attestation_data.json', 'w') as fd:\n",
    "    json.dump(attestation, fd, indent=4)"
   ],
   "metadata": {
    "collapsed": false,
    "pycharm": {
     "name": "#%%\n"
    }
   }
  },
  {
   "cell_type": "markdown",
   "source": [
    "Build data structure for each validator, including source epoch and target epoch"
   ],
   "metadata": {
    "collapsed": false
   }
  },
  {
   "cell_type": "code",
   "execution_count": 46,
   "outputs": [
    {
     "name": "stderr",
     "output_type": "stream",
     "text": [
      "100%|██████████| 640/640 [00:01<00:00, 404.26it/s]\n"
     ]
    }
   ],
   "source": [
    "with open('attestation_data.json', 'r') as fd:\n",
    "    attestation = json.load(fd)\n",
    "\n",
    "for slot in tqdm(attestation):\n",
    "    for item in attestation[slot]:\n",
    "        try:\n",
    "            del item['aggregationbits']\n",
    "            del item['block_index']\n",
    "            del item['block_root']\n",
    "            del item['block_slot']\n",
    "            del item['committeeindex']\n",
    "            del item['signature']\n",
    "            del item['source_root']\n",
    "            del item['target_root']\n",
    "        except Exception as e:\n",
    "            print(traceback.format_exc())\n",
    "\n",
    "validator_to_attestation = {}\n",
    "for slot in tqdm(attestation):\n",
    "    for item in attestation[slot]:\n",
    "        try:\n",
    "            for validator in item['validators']:\n",
    "                record = {\n",
    "                    \"validator\": validator,\n",
    "                    \"source\": item['source_epoch'],\n",
    "                    \"target\": item['target_epoch'],\n",
    "                    \"block_root\": item['beaconblockroot'],\n",
    "                    \"slot\": slot\n",
    "                }\n",
    "                if validator in validator_to_attestation:\n",
    "                    validator_to_attestation[validator].append(record)\n",
    "                else:\n",
    "                    validator_to_attestation[validator] = [record]\n",
    "        except Exception as e:\n",
    "            print(traceback.format_exc())\n",
    "\n",
    "attestation.clear()"
   ],
   "metadata": {
    "collapsed": false,
    "pycharm": {
     "name": "#%%\n"
    }
   }
  },
  {
   "cell_type": "markdown",
   "source": [
    "Try to find unreported attestation violations in parallel"
   ],
   "metadata": {
    "collapsed": false
   }
  },
  {
   "cell_type": "code",
   "execution_count": 49,
   "outputs": [
    {
     "name": "stderr",
     "output_type": "stream",
     "text": [
      "100%|██████████| 76807/76807 [00:00<00:00, 195507.69it/s]\n"
     ]
    }
   ],
   "source": [
    "from concurrent import futures\n",
    "import os\n",
    "\n",
    "double_vote = []\n",
    "surround_vote = []\n",
    "\n",
    "def analyze_validators(validator):\n",
    "    size = len(validator)\n",
    "    for i in range(0, size):\n",
    "        for j in range(i + 1, size):\n",
    "            if validator[i]['block_root'] == validator[j]['block_root']:\n",
    "                continue\n",
    "\n",
    "            # Double vote: same target epoch\n",
    "            if validator[i]['target'] == validator[j]['target']:\n",
    "                double_vote.append({\n",
    "                    'validator': validator[i]['validator'],\n",
    "                    'attestation1': validator[i],\n",
    "                    'attestation2': validator[j],\n",
    "                })\n",
    "\n",
    "            # Surround vote\n",
    "            if validator[i]['source'] \\\n",
    "                < validator[j]['source'] \\\n",
    "                < validator[j]['target'] \\\n",
    "                < validator[i]['target'] or\\\n",
    "                validator[j]['source'] \\\n",
    "                < validator[i]['source'] \\\n",
    "                < validator[i]['target'] \\\n",
    "                < validator[j]['target']:\n",
    "                surround_vote.append({\n",
    "                    'validator': validator[i]['validator'],\n",
    "                    'attestation1': validator[i],\n",
    "                    'attestation2': validator[j],\n",
    "                })\n",
    "\n",
    "\n",
    "with futures.ThreadPoolExecutor(max_workers=os.cpu_count()) as pool:\n",
    "    results = list(tqdm(pool.map(analyze_validators, validator_to_attestation.values()), total=len(validator_to_attestation)))\n"
   ],
   "metadata": {
    "collapsed": false,
    "pycharm": {
     "name": "#%%\n"
    }
   }
  },
  {
   "cell_type": "code",
   "execution_count": 2,
   "outputs": [
    {
     "name": "stdout",
     "output_type": "stream",
     "text": [
      "0 0\n"
     ]
    }
   ],
   "source": [
    "print(len(surround_vote), len(double_vote))"
   ],
   "metadata": {
    "collapsed": false,
    "pycharm": {
     "name": "#%%\n"
    }
   }
  }
 ],
 "metadata": {
  "kernelspec": {
   "display_name": "Python 3",
   "language": "python",
   "name": "python3"
  },
  "language_info": {
   "codemirror_mode": {
    "name": "ipython",
    "version": 2
   },
   "file_extension": ".py",
   "mimetype": "text/x-python",
   "name": "python",
   "nbconvert_exporter": "python",
   "pygments_lexer": "ipython2",
   "version": "2.7.6"
  }
 },
 "nbformat": 4,
 "nbformat_minor": 0
}